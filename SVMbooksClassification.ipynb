{
 "cells": [
  {
   "cell_type": "code",
   "execution_count": 27,
   "id": "7d0992d0",
   "metadata": {},
   "outputs": [],
   "source": [
    "import warnings\n",
    "warnings.filterwarnings('ignore')\n",
    "import requests\n",
    "import re\n",
    "import nltk\n",
    "import random\n",
    "import numpy as np\n",
    "import pandas as pd\n",
    "from sklearn.svm import SVC\n",
    "from sklearn import tree\n",
    "from urllib import request\n",
    "from random import randint\n",
    "from nltk import word_tokenize\n",
    "from collections import Counter\n",
    "import matplotlib.pyplot as plt\n",
    "from nltk.corpus import stopwords\n",
    "from sklearn import preprocessing\n",
    "from nltk.stem import WordNetLemmatizer\n",
    "from mlxtend.evaluate import bias_variance_decomp\n",
    "from sklearn.model_selection import GridSearchCV\n",
    "from sklearn.neighbors import KNeighborsClassifier\n",
    "from sklearn.model_selection  import cross_val_score\n",
    "from sklearn.model_selection import train_test_split, KFold\n",
    "from sklearn.feature_extraction.text import CountVectorizer\n",
    "from sklearn.feature_extraction.text import TfidfVectorizer\n",
    "from sklearn.metrics import classification_report, confusion_matrix, plot_confusion_matrix"
   ]
  },
  {
   "cell_type": "code",
   "execution_count": 28,
   "id": "7bedeeac",
   "metadata": {},
   "outputs": [],
   "source": [
    "books_url_list = [\"https://www.gutenberg.org/files/84/84-0.txt\",\n",
    "                  \"https://www.gutenberg.org/cache/epub/28434/pg28434.txt\",\n",
    "                  \"https://www.gutenberg.org/cache/epub/3623/pg3623.txt\",\n",
    "                  \"https://www.gutenberg.org/cache/epub/17866/pg17866.txt\",\n",
    "                  \"https://www.gutenberg.org/files/3772/3772-0.txt\"]"
   ]
  },
  {
   "cell_type": "code",
   "execution_count": 29,
   "id": "5321781c",
   "metadata": {},
   "outputs": [],
   "source": [
    "def model_svm(x_train, y_train, x_test):\n",
    "    cs = SVC(kernel = 'linear', random_state = 0)\n",
    "    cs.fit(x_train, y_train)\n",
    "    y_pred = cs.predict(x_test)\n",
    "    return y_pred, cs"
   ]
  },
  {
   "cell_type": "markdown",
   "id": "57a682c0",
   "metadata": {},
   "source": [
    "# Preprocessing"
   ]
  },
  {
   "cell_type": "code",
   "execution_count": 30,
   "id": "6b3f8ecc",
   "metadata": {},
   "outputs": [
    {
     "data": {
      "text/plain": [
       "5"
      ]
     },
     "execution_count": 30,
     "metadata": {},
     "output_type": "execute_result"
    }
   ],
   "source": [
    "#function read raw data\n",
    "def read_books(url):\n",
    "    files = []\n",
    "    for i in url:\n",
    "        file = requests.get(url = i)\n",
    "        files.append(file.content.decode('utf-8'))\n",
    "    return files\n",
    "\n",
    "#read raw data\n",
    "raw_dataset = read_books(books_url_list)\n",
    "len(raw_dataset)"
   ]
  },
  {
   "cell_type": "code",
   "execution_count": 31,
   "id": "fb012e86",
   "metadata": {},
   "outputs": [
    {
     "data": {
      "text/plain": [
       "5"
      ]
     },
     "execution_count": 31,
     "metadata": {},
     "output_type": "execute_result"
    }
   ],
   "source": [
    "#Function cleaned tokens\n",
    "def cleaned_text(raw_text):\n",
    "    text_beg = raw_text.find(\"*** START OF\")\n",
    "    text_end = raw_text.find(\"*** END OF\")\n",
    "\n",
    "    raw_text = raw_text[text_beg : text_end]\n",
    "    raw_text = re.findall(r\"[a-zA-Z]+\", raw_text)\n",
    "    raw_text = \" \".join(raw_text).lower()\n",
    "    tokens = word_tokenize(raw_text)\n",
    "    stop_words = stopwords.words(\"english\")\n",
    "    lemmatizer = WordNetLemmatizer()\n",
    "    tokens = [lemmatizer.lemmatize(token) for token in tokens if token not in stop_words]\n",
    "    \n",
    "    return tokens\n",
    "#Getting cleaned tokens\n",
    "tokens = []\n",
    "for i in range(len(raw_dataset)):\n",
    "    tokens.append(cleaned_text(raw_dataset[i]))\n",
    "len(tokens)"
   ]
  },
  {
   "cell_type": "code",
   "execution_count": 32,
   "id": "2ea91a0d",
   "metadata": {},
   "outputs": [
    {
     "name": "stdout",
     "output_type": "stream",
     "text": [
      "5\n",
      "5\n",
      "5\n",
      "5\n"
     ]
    }
   ],
   "source": [
    "#function to extract author name, book name and labels\n",
    "def extract_book_author(raw_text, index):\n",
    "    label = chr(index + 97)\n",
    "        \n",
    "    title_beg = raw_text.find(\"Title\") + 7\n",
    "    title_end = raw_text.find(\"\\r\\n\\r\\nAuthor\")\n",
    "    title = raw_text[title_beg : title_end]\n",
    "\n",
    "    author_beg = raw_text.find(\"Author\") + 8\n",
    "    c = 0\n",
    "    while raw_text[author_beg + c] != \"\\r\":\n",
    "        c += 1\n",
    "        author_end = author_beg + c\n",
    "    author = raw_text[author_beg : author_end]\n",
    "    return label, title, author\n",
    "\n",
    "#getting the author name, book name, labels\n",
    "label, author, title = [], [], []\n",
    "for i in range(len(raw_dataset)):\n",
    "    label_temp, title_temp, author_temp = extract_book_author(raw_dataset[i],i)\n",
    "    label.append(label_temp)\n",
    "    author.append(author_temp)\n",
    "    title.append(title_temp)\n",
    "    \n",
    "print(len(label))\n",
    "print(len(author))\n",
    "print(len(title))\n",
    "print(len(tokens))"
   ]
  },
  {
   "cell_type": "code",
   "execution_count": 33,
   "id": "a28978e9",
   "metadata": {},
   "outputs": [],
   "source": [
    "#function to partition data\n",
    "def partitioned_text(tokens, title, author, label):\n",
    "    book_partitions = []\n",
    "    for i in range(0, len(tokens) -150, 150):\n",
    "        partition = [\" \".join(tokens[i : i + 150]), title, author, label]\n",
    "        book_partitions.append(partition)\n",
    "    return book_partitions"
   ]
  },
  {
   "cell_type": "code",
   "execution_count": 34,
   "id": "a710a0e6",
   "metadata": {},
   "outputs": [
    {
     "data": {
      "text/html": [
       "<div>\n",
       "<style scoped>\n",
       "    .dataframe tbody tr th:only-of-type {\n",
       "        vertical-align: middle;\n",
       "    }\n",
       "\n",
       "    .dataframe tbody tr th {\n",
       "        vertical-align: top;\n",
       "    }\n",
       "\n",
       "    .dataframe thead th {\n",
       "        text-align: right;\n",
       "    }\n",
       "</style>\n",
       "<table border=\"1\" class=\"dataframe\">\n",
       "  <thead>\n",
       "    <tr style=\"text-align: right;\">\n",
       "      <th></th>\n",
       "      <th>partitions</th>\n",
       "      <th>title</th>\n",
       "      <th>author</th>\n",
       "      <th>label</th>\n",
       "    </tr>\n",
       "  </thead>\n",
       "  <tbody>\n",
       "    <tr>\n",
       "      <th>0</th>\n",
       "      <td>charge stephen gresham killing time talking st...</td>\n",
       "      <td>Murder in the Gunroom</td>\n",
       "      <td>Henry Beam Piper</td>\n",
       "      <td>d</td>\n",
       "    </tr>\n",
       "    <tr>\n",
       "      <th>1</th>\n",
       "      <td>process unite opposite side form band bridge a...</td>\n",
       "      <td>The Astronomy of Milton's 'Paradise Lost'</td>\n",
       "      <td>Thomas Orchard</td>\n",
       "      <td>b</td>\n",
       "    </tr>\n",
       "    <tr>\n",
       "      <th>2</th>\n",
       "      <td>festival mohammedan people particularly remark...</td>\n",
       "      <td>The Golden Bough\\r\\n       A study of magic an...</td>\n",
       "      <td>Sir James George Frazer</td>\n",
       "      <td>c</td>\n",
       "    </tr>\n",
       "    <tr>\n",
       "      <th>3</th>\n",
       "      <td>pecten quadricostatus several others common up...</td>\n",
       "      <td>The Student’s Elements of Geology</td>\n",
       "      <td>Sir Charles Lyell</td>\n",
       "      <td>e</td>\n",
       "    </tr>\n",
       "    <tr>\n",
       "      <th>4</th>\n",
       "      <td>anglo saxon norse language posse common word m...</td>\n",
       "      <td>The Golden Bough\\r\\n       A study of magic an...</td>\n",
       "      <td>Sir James George Frazer</td>\n",
       "      <td>c</td>\n",
       "    </tr>\n",
       "    <tr>\n",
       "      <th>...</th>\n",
       "      <td>...</td>\n",
       "      <td>...</td>\n",
       "      <td>...</td>\n",
       "      <td>...</td>\n",
       "    </tr>\n",
       "    <tr>\n",
       "      <th>995</th>\n",
       "      <td>would could ever known long engaged attention ...</td>\n",
       "      <td>Frankenstein\\r\\n       or, The Modern Prometheus</td>\n",
       "      <td>Mary Wollstonecraft (Godwin) Shelley</td>\n",
       "      <td>a</td>\n",
       "    </tr>\n",
       "    <tr>\n",
       "      <th>996</th>\n",
       "      <td>start project gutenberg ebook golden bough ete...</td>\n",
       "      <td>The Golden Bough\\r\\n       A study of magic an...</td>\n",
       "      <td>Sir James George Frazer</td>\n",
       "      <td>c</td>\n",
       "    </tr>\n",
       "    <tr>\n",
       "      <th>997</th>\n",
       "      <td>led quite different result thus near clifton a...</td>\n",
       "      <td>The Student’s Elements of Geology</td>\n",
       "      <td>Sir Charles Lyell</td>\n",
       "      <td>e</td>\n",
       "    </tr>\n",
       "    <tr>\n",
       "      <th>998</th>\n",
       "      <td>symptom henry saw removed apparatus view also ...</td>\n",
       "      <td>Frankenstein\\r\\n       or, The Modern Prometheus</td>\n",
       "      <td>Mary Wollstonecraft (Godwin) Shelley</td>\n",
       "      <td>a</td>\n",
       "    </tr>\n",
       "    <tr>\n",
       "      <th>999</th>\n",
       "      <td>burial fossil animal lias fluvio marine bed gl...</td>\n",
       "      <td>The Student’s Elements of Geology</td>\n",
       "      <td>Sir Charles Lyell</td>\n",
       "      <td>e</td>\n",
       "    </tr>\n",
       "  </tbody>\n",
       "</table>\n",
       "<p>1000 rows × 4 columns</p>\n",
       "</div>"
      ],
      "text/plain": [
       "                                            partitions  \\\n",
       "0    charge stephen gresham killing time talking st...   \n",
       "1    process unite opposite side form band bridge a...   \n",
       "2    festival mohammedan people particularly remark...   \n",
       "3    pecten quadricostatus several others common up...   \n",
       "4    anglo saxon norse language posse common word m...   \n",
       "..                                                 ...   \n",
       "995  would could ever known long engaged attention ...   \n",
       "996  start project gutenberg ebook golden bough ete...   \n",
       "997  led quite different result thus near clifton a...   \n",
       "998  symptom henry saw removed apparatus view also ...   \n",
       "999  burial fossil animal lias fluvio marine bed gl...   \n",
       "\n",
       "                                                 title  \\\n",
       "0                                Murder in the Gunroom   \n",
       "1            The Astronomy of Milton's 'Paradise Lost'   \n",
       "2    The Golden Bough\\r\\n       A study of magic an...   \n",
       "3                    The Student’s Elements of Geology   \n",
       "4    The Golden Bough\\r\\n       A study of magic an...   \n",
       "..                                                 ...   \n",
       "995   Frankenstein\\r\\n       or, The Modern Prometheus   \n",
       "996  The Golden Bough\\r\\n       A study of magic an...   \n",
       "997                  The Student’s Elements of Geology   \n",
       "998   Frankenstein\\r\\n       or, The Modern Prometheus   \n",
       "999                  The Student’s Elements of Geology   \n",
       "\n",
       "                                   author label  \n",
       "0                        Henry Beam Piper     d  \n",
       "1                          Thomas Orchard     b  \n",
       "2                 Sir James George Frazer     c  \n",
       "3                       Sir Charles Lyell     e  \n",
       "4                 Sir James George Frazer     c  \n",
       "..                                    ...   ...  \n",
       "995  Mary Wollstonecraft (Godwin) Shelley     a  \n",
       "996               Sir James George Frazer     c  \n",
       "997                     Sir Charles Lyell     e  \n",
       "998  Mary Wollstonecraft (Godwin) Shelley     a  \n",
       "999                     Sir Charles Lyell     e  \n",
       "\n",
       "[1000 rows x 4 columns]"
      ]
     },
     "execution_count": 34,
     "metadata": {},
     "output_type": "execute_result"
    }
   ],
   "source": [
    "partitions = []\n",
    "for i in range(len(books_url_list)):\n",
    "    book_partitions = partitioned_text(tokens[i], title[i], author[i], label[i])\n",
    "    random.shuffle(book_partitions)\n",
    "    book_partitions = book_partitions[0:200]\n",
    "    partitions += book_partitions\n",
    "\n",
    "dataset = pd.DataFrame(partitions, columns = [\"partitions\", \"title\", \"author\", \"label\"])\n",
    "dataset = dataset.sample(frac=1).reset_index(drop=True)\n",
    "dataset"
   ]
  },
  {
   "cell_type": "code",
   "execution_count": 39,
   "id": "25149649",
   "metadata": {},
   "outputs": [],
   "source": [
    "def train_test_data(data):\n",
    "    dataset_train, dataset_test = train_test_split(dataset, test_size = 0.3, random_state=42)\n",
    "    dataset_train = dataset_train.reset_index(drop = True)\n",
    "    dataset_test = dataset_test.reset_index(drop = True)\n",
    "    return dataset_train, dataset_test\n",
    "\n",
    "dataset_train, dataset_test = train_test_data(dataset)"
   ]
  },
  {
   "cell_type": "code",
   "execution_count": 40,
   "id": "f6a24987",
   "metadata": {},
   "outputs": [],
   "source": [
    "def model_bow(data_train, data_test):\n",
    "    bow_vectorizer = CountVectorizer()\n",
    "    bow_train_model = bow_vectorizer.fit_transform(data_train)\n",
    "    bow_features_train = pd.DataFrame(bow_train_model.toarray(), columns = bow_vectorizer.get_feature_names())\n",
    "    \n",
    "    bow_test_model = bow_vectorizer.transform(data_test)\n",
    "    bow_features_test = pd.DataFrame(bow_test_model.toarray(), columns = bow_vectorizer.get_feature_names())\n",
    "    return bow_features_train, bow_features_test"
   ]
  },
  {
   "cell_type": "code",
   "execution_count": 41,
   "id": "2f3682c3",
   "metadata": {},
   "outputs": [],
   "source": [
    "bow_train, bow_test = model_bow(dataset_train['partitions'], dataset_test['partitions'])"
   ]
  },
  {
   "cell_type": "code",
   "execution_count": 43,
   "id": "410ef00d",
   "metadata": {},
   "outputs": [],
   "source": [
    "y_pred_bow, model_svm_bow = model_svm(bow_train, dataset_train['label'], bow_test)"
   ]
  },
  {
   "cell_type": "code",
   "execution_count": 45,
   "id": "43cc8fc9",
   "metadata": {},
   "outputs": [
    {
     "data": {
      "text/plain": [
       "<sklearn.metrics._plot.confusion_matrix.ConfusionMatrixDisplay at 0x1c6da5247c0>"
      ]
     },
     "execution_count": 45,
     "metadata": {},
     "output_type": "execute_result"
    },
    {
     "data": {
      "image/png": "[encoded data removed]",
      "text/plain": [
       "<Figure size 432x288 with 2 Axes>"
      ]
     },
     "metadata": {
      "needs_background": "light"
     },
     "output_type": "display_data"
    }
   ],
   "source": [
    "plot_confusion_matrix(model_svm_bow, bow_test, dataset_test[\"label\"])"
   ]
  },
  {
   "cell_type": "code",
   "execution_count": null,
   "id": "1ba775f1",
   "metadata": {},
   "outputs": [],
   "source": []
  }
 ],
 "metadata": {
  "kernelspec": {
   "display_name": "Python 3 (ipykernel)",
   "language": "python",
   "name": "python3"
  },
  "language_info": {
   "codemirror_mode": {
    "name": "ipython",
    "version": 3
   },
   "file_extension": ".py",
   "mimetype": "text/x-python",
   "name": "python",
   "nbconvert_exporter": "python",
   "pygments_lexer": "ipython3",
   "version": "3.9.7"
  }
 },
 "nbformat": 4,
 "nbformat_minor": 5
}
